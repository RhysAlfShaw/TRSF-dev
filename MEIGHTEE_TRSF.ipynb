{
 "cells": [
  {
   "cell_type": "code",
   "execution_count": null,
   "metadata": {},
   "outputs": [],
   "source": [
    "from TRSF import trsf\n",
    "import numpy as np \n",
    "import matplotlib.pyplot as plt\n",
    "import os\n",
    "PATH_Cosmo_r0p0 = '/Users/rs17612/Documents/Radio_Data/MIGHTEE/MIGHTEE_Continuum_Early_Science_COSMOS_r0p0.app.restored.circ.fits'\n",
    "PATH_Cosmo_r1p2 = '/Users/rs17612/Documents/Radio_Data/MIGHTEE/MIGHTEE_Continuum_Early_Science_COSMOS_r-1p2.app.restored.circ.fits'\n",
    "PATH_XMMLSS_r0p0 = '/Users/rs17612/Documents/Radio_Data/MIGHTEE/MIGHTEE_Continuum_Early_Science_XMMLSS_r0p0_circ.fits'\n",
    "PATH_XMMLSS_r1p2 = '/Users/rs17612/Documents/Radio_Data/MIGHTEE/MIGHTEE_Continuum_Early_Science_XMMLSS_r-1p2_circ.hires.fits'\n",
    "\n",
    "# function to test if the file exists\n",
    "def file_exists(path):\n",
    "    if os.path.isfile(path):\n",
    "        print('File exists : '+path)\n",
    "        return True\n",
    "    else:\n",
    "        print('File does not exist : '+path)\n",
    "        return False\n",
    "    \n",
    "file_exists(PATH_Cosmo_r0p0)\n",
    "file_exists(PATH_Cosmo_r1p2)\n",
    "file_exists(PATH_XMMLSS_r0p0)\n",
    "file_exists(PATH_XMMLSS_r1p2)\n"
   ]
  },
  {
   "cell_type": "code",
   "execution_count": null,
   "metadata": {},
   "outputs": [],
   "source": [
    "Cosmo_r0p0_data = trsf(PATH_Cosmo_r0p0,gaussian_fitting=False,region_expansion=False,cutup_img_size=500,sigma=5,smoothing=False,smooth_param=5)"
   ]
  },
  {
   "cell_type": "code",
   "execution_count": null,
   "metadata": {},
   "outputs": [],
   "source": [
    "print(len(Cosmo_r0p0_data.catalogue))"
   ]
  },
  {
   "cell_type": "code",
   "execution_count": null,
   "metadata": {},
   "outputs": [],
   "source": [
    "Cosmo_r1p2_data = trsf(PATH_Cosmo_r1p2,gaussian_fitting=False,region_expansion=False,cutup_img_size=500,sigma=5,smoothing=False,smooth_param=5)"
   ]
  },
  {
   "cell_type": "code",
   "execution_count": null,
   "metadata": {},
   "outputs": [],
   "source": [
    "print(len(Cosmo_r1p2_data.catalogue))"
   ]
  },
  {
   "cell_type": "code",
   "execution_count": null,
   "metadata": {},
   "outputs": [],
   "source": [
    "XMM_LSS_r1p2_data = trsf(PATH_XMMLSS_r1p2,gaussian_fitting=False,region_expansion=False,cutup_img_size=500,sigma=5,smoothing=False,smooth_param=5)"
   ]
  },
  {
   "cell_type": "code",
   "execution_count": null,
   "metadata": {},
   "outputs": [],
   "source": [
    "print(len(XMM_LSS_r1p2_data.catalogue))"
   ]
  },
  {
   "cell_type": "code",
   "execution_count": null,
   "metadata": {},
   "outputs": [],
   "source": [
    "XMM_LSS_r0p0_data = trsf(PATH_XMMLSS_r0p0,gaussian_fitting=False,region_expansion=False,cutup_img_size=500,sigma=5,smoothing=False,smooth_param=5)"
   ]
  },
  {
   "cell_type": "code",
   "execution_count": null,
   "metadata": {},
   "outputs": [],
   "source": [
    "import skimage.measure as measure\n",
    "\n",
    "def get_enclosing_mask(x, y, mask):\n",
    "    '''\n",
    "    Returns the mask of the enclosed area of the point (x,y) in the mask.\n",
    "    '''\n",
    "    \n",
    "    # Ensure the point is inside the mask\n",
    "    if not mask[y, x]:\n",
    "        return None\n",
    "    # Create a copy of the mask\n",
    "    enclosed_mask = np.copy(mask)\n",
    "    # Perform a flood fill starting from the point\n",
    "    h, w = mask.shape\n",
    "    stack = [(x, y)]\n",
    "    while stack:\n",
    "        x, y = stack.pop()\n",
    "        if enclosed_mask[y, x]:\n",
    "            enclosed_mask[y, x] = False\n",
    "            if x > 0:\n",
    "                stack.append((x - 1, y))\n",
    "            if x < w - 1:\n",
    "                stack.append((x + 1, y))\n",
    "            if y > 0:\n",
    "                stack.append((x, y - 1))\n",
    "            if y < h - 1:\n",
    "                stack.append((x, y + 1))\n",
    "    \n",
    "    return mask & (~enclosed_mask)\n",
    "\n",
    "def plottings(cat,ptype,color,img):\n",
    "    \n",
    "    label = False\n",
    "    for i in range(0,len(cat)):\n",
    "        row = cat.iloc[i]\n",
    "        if ptype=='bbox':\n",
    "            bbox = row.bbox\n",
    "            if bbox != None:\n",
    "                xmin = bbox[0] - 1\n",
    "                xmax = bbox[2] + 1\n",
    "                ymin = bbox[1] - 1\n",
    "                ymax = bbox[3] + 1\n",
    "                if label == False:\n",
    "                    plt.plot([ymin,ymin,ymax,ymax,ymin],[xmin,xmax,xmax,xmin,xmin],color=color,label='class 5')\n",
    "                    label = True\n",
    "                plt.plot([ymin,ymin,ymax,ymax,ymin],[xmin,xmax,xmax,xmin,xmin],color=color)\n",
    "        if ptype == 'point':\n",
    "            plt.plot(row.y,row.x,'+',color=color)\n",
    "        \n",
    "        if ptype == 'polygonwith':\n",
    "            polygon = row.polygon\n",
    "            try:\n",
    "                if label == False:\n",
    "                    plt.plot(polygon[:,1],polygon[:,0],color=color,label='class 2')\n",
    "                    label = True\n",
    "                else:\n",
    "                    plt.plot(polygon[:,1],polygon[:,0],color=color)  \n",
    "            except:\n",
    "                #print('polygonwith Failed')\n",
    "                continue\n",
    "                #plottings(cat,'polygonwithout',color,img) \n",
    "                \n",
    "        if ptype == 'polygonwithout':\n",
    "        # we much create the polygons from the birth and death points\n",
    "            try:\n",
    "                birth = row.Birth\n",
    "                death = row.Death\n",
    "                mask = np.zeros(img.shape)\n",
    "                mask = np.logical_or(mask, np.logical_and(img <= birth, img > death))\n",
    "                #print(row.x_c,row.y_c)\n",
    "                #plt.imshow(mask)\n",
    "                ##plt.scatter(row.x_c,row.y_c,color='red')\n",
    "                #plt.xlim(row.x_c-100,row.x_c+100)\n",
    "                #plt.show()\n",
    "                #plt.ylim(row.y_c-100,row.y_c+100)\n",
    "                mask = get_enclosing_mask(int(row.x_c),int(row.y_c),mask)\n",
    "                mask = mask.astype(int)\n",
    "\n",
    "                contour = measure.find_contours(mask)[0]\n",
    "\n",
    "                if label == False:\n",
    "                    plt.plot(contour[:,1],contour[:,0],color=color,label='class 2')\n",
    "                    label= True\n",
    "                else:\n",
    "                    plt.plot(contour[:,1],contour[:,0],color=color)   \n",
    "            except:\n",
    "                print(row)"
   ]
  },
  {
   "cell_type": "code",
   "execution_count": null,
   "metadata": {},
   "outputs": [],
   "source": [
    "catalogue = XMM_LSS_r0p0_data.catalogue\n",
    "image = XMM_LSS_r0p0_data.full_img\n",
    "# change any 2 to 7\n",
    "#catalogue['Class'][catalogue['Class'] == 2] = 7\n",
    "catalogue['Class'][np.isnan(catalogue['Class'])] = 2\n",
    "cat0 = catalogue[catalogue['Class'] == 0]\n",
    "cat1 = catalogue[catalogue['Class'] == 1]\n",
    "cat2 = catalogue[catalogue['Class'] == 2]\n",
    "cat3 = catalogue[catalogue['Class'] == 3]\n",
    "cat4 = catalogue[catalogue['Class'] == 4]\n",
    "cat5 = catalogue[catalogue['Class'] == 5]"
   ]
  },
  {
   "cell_type": "code",
   "execution_count": null,
   "metadata": {},
   "outputs": [],
   "source": [
    "cat2"
   ]
  },
  {
   "cell_type": "code",
   "execution_count": null,
   "metadata": {},
   "outputs": [],
   "source": [
    "plt.figure(figsize=(10,10))\n",
    "plt.imshow(image,origin='lower',cmap='gray',vmax=0.01)\n",
    "#plottings(cat0,'polygonwithout',color='b',img=image)\n",
    "#plottings(cat2,'polygonwith',color='r',img=image)\n",
    "plottings(cat5,'polygonwithout',color='g',img=image)\n",
    "#plottings(cat4,'polygonwithout',color='orange',img=image)\n",
    "#plottings(cat3,'polygonwithout',color='purple',img=image)\n",
    "#plottings(cat1,'polygonwithout',color='y',img=image)\n",
    "plt.xlim(3000,4000)\n",
    "plt.ylim(3000,4000)\n",
    "plt.show()"
   ]
  },
  {
   "cell_type": "code",
   "execution_count": null,
   "metadata": {},
   "outputs": [],
   "source": [
    "print(len(XMM_LSS_r0p0_data.catalogue))"
   ]
  },
  {
   "cell_type": "code",
   "execution_count": null,
   "metadata": {},
   "outputs": [],
   "source": [
    "flux_tot = XMM_LSS_r0p0_data.catalogue.flux_tot.to_list()\n",
    "flux_peak = XMM_LSS_r0p0_data.catalogue.flux_peak.to_list()\n",
    "\n",
    "print(flux_tot)"
   ]
  },
  {
   "cell_type": "code",
   "execution_count": null,
   "metadata": {},
   "outputs": [],
   "source": [
    "# open appropriate pybdsf catalog\n",
    "PATH_XMM_LSS_r0p0_cat = '/Users/rs17612/Documents/Radio_Data/MIGHTEE/MIGHTEE_CONTINUUM_Early_Science_XMMLSS_r0p0_circ.srl.fits'\n",
    "PATH_XMM_LSS_r1p2_cat = '/Users/rs17612/Documents/Radio_Data/MIGHTEE/MIGHTEE_CONTINUUM_Early_Science_XMMLSS_r-1p2_circ.hires.gaul.fits'\n",
    "PATH_Cosmo_r0p0_cat = '/Users/rs17612/Documents/Radio_Data/MIGHTEE/MIGHTEE_CONTINUUM_Early_Science_COSMOS_Level1.fits'\n",
    "PATH_Cosmo_r1p2_cat = '/Users/rs17612/Documents/Radio_Data/MIGHTEE/MIGHTEE_CONTINUUM_Early_Science_COSMOS_r-1p2.app.restored.circ.gaul.fits'\n",
    "# check path is correct\n",
    "file_exists(PATH_XMM_LSS_r0p0_cat)\n",
    "file_exists(PATH_XMM_LSS_r1p2_cat)\n",
    "file_exists(PATH_Cosmo_r0p0_cat)\n",
    "file_exists(PATH_Cosmo_r1p2_cat)"
   ]
  },
  {
   "cell_type": "code",
   "execution_count": null,
   "metadata": {},
   "outputs": [],
   "source": [
    "from astropy.io import fits\n",
    "import pandas as pd\n",
    "\n",
    "def flux_hist(cat_path,trsf_flux):\n",
    "    # open cat\n",
    "    bdsf_df = pd.DataFrame(fits.open(cat_path)[1].data)\n",
    "    print('Catalogue opened, Lenght: ', len(bdsf_df))\n",
    "    bdsf_tot_flux = bdsf_df['Total_flux'].to_list()\n",
    "    bdsf_peak_flux = bdsf_df['Peak_flux'].to_list()\n",
    "\n",
    "    flux = np.log10(trsf_flux)\n",
    "    bdsf_flux = np.log10(bdsf_tot_flux)\n",
    "\n",
    "    plt.hist(flux, bins=20,fill=False, histtype='step', color='black', linewidth=2,label='TRSF')\n",
    "    plt.hist(bdsf_flux, bins=20,fill=False, histtype='step', color='red', linewidth=2,label='pyBDSF')\n",
    "    plt.title('Flux distribution')\n",
    "    plt.xlabel('Flux_peak [Jy]')\n",
    "    plt.ylabel('Number of components')\n",
    "    plt.show()"
   ]
  },
  {
   "cell_type": "code",
   "execution_count": null,
   "metadata": {},
   "outputs": [],
   "source": [
    "# opend fits catalogue\n",
    "from astropy.io import fits\n",
    "import pandas as pd\n",
    "# open fits file\n",
    "hdulist = fits.open(PATH_XMM_LSS_r0p0_cat)\n",
    "bdsf_df = pd.DataFrame(hdulist[1].data)\n",
    "print(len(bdsf_df))\n",
    "\n"
   ]
  },
  {
   "cell_type": "code",
   "execution_count": null,
   "metadata": {},
   "outputs": [],
   "source": [
    "print(bdsf_df.columns)\n",
    "flux_bdsf = bdsf_df['Peak_flux'].values\n"
   ]
  },
  {
   "cell_type": "code",
   "execution_count": null,
   "metadata": {},
   "outputs": [],
   "source": [
    "# plot histogram of flux_tot\n",
    "flux = np.log10(flux_peak)\n",
    "bdsf_flux = np.log10(flux_bdsf)\n",
    "plt.hist(flux, bins=20,fill=False, histtype='step', color='black', linewidth=2,label='TRSF')\n",
    "plt.hist(bdsf_flux, bins=20,fill=False, histtype='step', color='red', linewidth=2,label='pyBDSF')\n",
    "plt.title('XMMLSS r0p0 srl')\n",
    "plt.xlabel('Flux_peak [Jy]')\n",
    "plt.ylabel('Number of components')\n",
    "plt.show()"
   ]
  }
 ],
 "metadata": {
  "kernelspec": {
   "display_name": "base",
   "language": "python",
   "name": "python3"
  },
  "language_info": {
   "codemirror_mode": {
    "name": "ipython",
    "version": 3
   },
   "file_extension": ".py",
   "mimetype": "text/x-python",
   "name": "python",
   "nbconvert_exporter": "python",
   "pygments_lexer": "ipython3",
   "version": "3.9.13"
  },
  "orig_nbformat": 4
 },
 "nbformat": 4,
 "nbformat_minor": 2
}
