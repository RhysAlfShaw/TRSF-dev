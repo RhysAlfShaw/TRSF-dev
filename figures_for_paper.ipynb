{
 "cells": [
  {
   "cell_type": "markdown",
   "metadata": {},
   "source": []
  },
  {
   "cell_type": "code",
   "execution_count": null,
   "metadata": {},
   "outputs": [],
   "source": [
    "import matplotlib.pylab as plt\n",
    "import numpy as np\n",
    "\n",
    "single_point = [0,0]\n",
    "# list of points on a circle around the origin\n",
    "circle_points = []\n",
    "for i in range(0, 380, 20):\n",
    "    circle_points.append([np.cos(np.deg2rad(i))/2, np.sin(np.deg2rad(i))/2])\n",
    "\n",
    "circle_points = np.array(circle_points)\n",
    "\n",
    "# create circle shell around origi\n",
    "\n",
    "# Generate 3D data\n",
    "phi_values = np.linspace(0, 2 * np.pi, 10)\n",
    "theta_values = np.linspace(0, np.pi, 10)\n",
    "phi, theta = np.meshgrid(phi_values, theta_values)\n",
    "x_3d = np.sin(theta) * np.cos(phi)\n",
    "y_3d = np.sin(theta) * np.sin(phi)\n",
    "z_3d = np.cos(theta)\n",
    "\n",
    "\n",
    "fig, axes = plt.subplots(1,3, figsize=(15,5))\n",
    "axes[0].plot(single_point[0], single_point[1], 'o', color='black', markersize=20)\n",
    "axes[0].set_xticks([])\n",
    "axes[0].set_yticks([])\n",
    "axes[1].plot(circle_points[:,0], circle_points[:,1], 'o', color='black', markersize=20)\n",
    "axes[1].plot(circle_points[:,0], circle_points[:,1], '-', color='black', markersize=10)\n",
    "axes[1].set_xticks([])\n",
    "axes[1].set_yticks([])\n",
    "axes[2].set_xticks([])\n",
    "axes[2].set_yticks([])\n",
    "axes_3d = fig.add_subplot(1,3,3, projection='3d')\n",
    "axes_3d.plot_surface(x_3d,y_3d,z_3d, cmap='gray')\n",
    "axes_3d.view_init(30, 30)\n",
    "axes_3d.axis('off')\n",
    "axes_3d.set_xticks([])\n",
    "axes_3d.set_yticks([])\n",
    "plt.tight_layout()\n",
    "plt.xticks([])\n",
    "plt.yticks([])\n",
    "plt.show()"
   ]
  },
  {
   "cell_type": "code",
   "execution_count": null,
   "metadata": {},
   "outputs": [],
   "source": [
    "plt.figure(figsize=(5,5))\n",
    "plt.plot(single_point[0], single_point[1], 'o', color='black', markersize=20)\n",
    "plt.xticks([])\n",
    "plt.yticks([])\n",
    "plt.show()"
   ]
  },
  {
   "cell_type": "code",
   "execution_count": null,
   "metadata": {},
   "outputs": [],
   "source": [
    "plt.figure(figsize=(5,5))\n",
    "plt.plot(circle_points[:,0], circle_points[:,1], 'o', color='black', markersize=20)\n",
    "plt.plot(circle_points[:,0], circle_points[:,1], '-', color='black', markersize=10)\n",
    "plt.xticks([])\n",
    "plt.yticks([])\n",
    "plt.show()"
   ]
  },
  {
   "cell_type": "code",
   "execution_count": null,
   "metadata": {},
   "outputs": [],
   "source": [
    "axes_3d = plt.subplot(1,1,1, projection='3d')\n",
    "axes_3d.plot_surface(x_3d,y_3d,z_3d, cmap='gray')\n",
    "axes_3d.view_init(30, 30)\n",
    "axes_3d.axis('off')\n",
    "axes_3d.set_xticks([])\n",
    "axes_3d.set_yticks([])\n",
    "plt.show()"
   ]
  }
 ],
 "metadata": {
  "kernelspec": {
   "display_name": "base",
   "language": "python",
   "name": "python3"
  },
  "language_info": {
   "codemirror_mode": {
    "name": "ipython",
    "version": 3
   },
   "file_extension": ".py",
   "mimetype": "text/x-python",
   "name": "python",
   "nbconvert_exporter": "python",
   "pygments_lexer": "ipython3",
   "version": "3.9.13"
  },
  "orig_nbformat": 4
 },
 "nbformat": 4,
 "nbformat_minor": 2
}
