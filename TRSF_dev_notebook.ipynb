{
 "cells": [
  {
   "cell_type": "markdown",
   "metadata": {},
   "source": [
    "# Full suite test on COSMO field, MIGHTEE data release, pyBDSF source counts around 9-10k."
   ]
  },
  {
   "cell_type": "code",
   "execution_count": null,
   "metadata": {},
   "outputs": [],
   "source": [
    "from TRSF import trsf\n",
    "img_PATH = '/Users/rs17612/Documents/Radio_Data/MIGHTEE/MIGHTEE_Continuum_Early_Science_COSMOS_r0p0.app.restored.circ.fits'\n",
    "img_PATH_2 = '/Users/rs17612/Documents/Radio_Data/MIGHTEE/MIGHTEE_Continuum_Early_Science_COSMOS_r-1p2.app.restored.circ.fits'\n",
    "SKA_PATH = '/Users/rs17612/Documents/Radio_Data/SKA_Challenge_1/SKAMid_B1_8h_v3_cropped.fits'\n",
    "data = trsf(img_PATH_2,gaussian_fitting=False,region_expansion=False,cutup_img_size=500,sigma=5,smoothing=False,smooth_param=5)"
   ]
  },
  {
   "cell_type": "code",
   "execution_count": null,
   "metadata": {},
   "outputs": [],
   "source": [
    "# open txt file to dataframe\n",
    "import pandas as pd\n",
    "Path = '/Users/rs17612/Documents/Radio_Data/SKA_Challenge_1/TrainingSet_B1_v2.txt'\n",
    "names=['ID','RA (core)','DEC (core)','RA (centroid)','DEC (centroid)','FLUX','Core frac','BMAJ','BMIN','PA','SIZE','CLASS','SELECTION','x','y']\n",
    "da = pd.read_csv(Path, sep='\\s+', header=None)\n",
    "# remove the first row as it is a header\n",
    "da = da.iloc[1:]\n",
    "# remove the last 5 columns as they are not needed\n",
    "da = da.iloc[:,:-5]\n",
    "da.columns = names\n",
    "da"
   ]
  },
  {
   "cell_type": "code",
   "execution_count": null,
   "metadata": {},
   "outputs": [],
   "source": [
    "from astropy.io import fits\n",
    "from astropy.nddata import Cutout2D\n",
    "\n",
    "def crop_and_save_fits(input_file, output_file, center_x, center_y, width, height):\n",
    "    # Open the input FITS file\n",
    "    fits_image = fits.open(input_file)\n",
    "    data = fits_image[0].data[0, 0]  # Extract the 2D data array\n",
    "    header = fits_image[0].header\n",
    "\n",
    "    # Crop the image using Cutout2D\n",
    "    center = (center_x, center_y)\n",
    "    size = (width, height)\n",
    "    cutout = Cutout2D(data, center, size)\n",
    "\n",
    "    # Create a new FITS HDU with the cropped data and original header\n",
    "    hdu = fits.PrimaryHDU(cutout.data, header=header)\n",
    "\n",
    "    # Create a new HDU list and save it to the output file\n",
    "    hdul = fits.HDUList([hdu])\n",
    "    hdul.writeto(output_file, overwrite=True)\n",
    "\n",
    "    print(\"Cropped FITS image saved to\", output_file)\n",
    "\n",
    "#crop_and_save_fits(SKA_PATH,'/Users/rs17612/Documents/Radio_Data/SKA_Challenge_1/SKAMid_B1_8h_v3_cropped.fits',(x_min+x_max)/2,(y_min+y_max)/2,x_max-x_min,y_max-y_min)"
   ]
  },
  {
   "cell_type": "code",
   "execution_count": null,
   "metadata": {},
   "outputs": [],
   "source": [
    "import matplotlib.pyplot as plt\n",
    "import numpy as np\n",
    "img = data.full_img\n",
    "img[img==0] = np.nan\n",
    "print(img.shape)\n",
    "\n",
    "cat = data.catalogue\n",
    "print(len(cat))\n",
    "plt.figure(figsize=(30,30))\n",
    "plt.imshow(img,cmap='gray',vmax=np.nanpercentile(img,95),vmin=np.nanpercentile(img,0.1))\n",
    "label_p = False\n",
    "label = False\n",
    "for i in range(0,len(cat)):\n",
    "    row = cat.iloc[i]\n",
    "    bbox = row.bbox\n",
    "    if bbox != None:\n",
    "        xmin = bbox[0] \n",
    "        xmax = bbox[2] \n",
    "        ymin = bbox[1] \n",
    "        ymax = bbox[3]\n",
    "        if label == False:\n",
    "            plt.plot([ymin,ymin,ymax,ymax,ymin],[xmin,xmax,xmax,xmin,xmin],color='red',label='class 5')\n",
    "            label = True\n",
    "        plt.plot([ymin,ymin,ymax,ymax,ymin],[xmin,xmax,xmax,xmin,xmin],color='red')\n",
    "    else:\n",
    "        polygon = row.polygon\n",
    "        if label_p == False:\n",
    "            plt.plot(polygon[:,1],polygon[:,0],color='green',label='class 2')\n",
    "            label_p = True\n",
    "        else:\n",
    "            plt.plot(polygon[:,1],polygon[:,0],color='green')   \n",
    "# plot by classes\n",
    "\n",
    "\n",
    "plt.xlim(2280,3667)\n",
    "plt.ylim(3600,4600)\n",
    "plt.legend()\n",
    "plt.show()"
   ]
  },
  {
   "cell_type": "code",
   "execution_count": null,
   "metadata": {},
   "outputs": [],
   "source": [
    "cat"
   ]
  },
  {
   "cell_type": "code",
   "execution_count": null,
   "metadata": {},
   "outputs": [],
   "source": [
    "# open fits table and put data in dataframe\n",
    "from astropy.table import Table\n",
    "import pandas as pd\n",
    "\n",
    "# open the fits table\n",
    "t = Table.read('/Users/rs17612/Documents/Radio_Data/MIGHTEE/MIGHTEE_Continuum_Early_Science_COSMOS_r-1p2.app.restored.circ.gaul.fits', format='fits')\n",
    "# convert to pandas dataframe/\n",
    "df = t.to_pandas()\n",
    "df"
   ]
  },
  {
   "cell_type": "code",
   "execution_count": null,
   "metadata": {},
   "outputs": [],
   "source": [
    "from astropy.coordinates import SkyCoord\n",
    "from regions import Regions, EllipseSkyRegion, PixCoord \n",
    "from astropy.wcs import WCS\n",
    "\n",
    "def create_sky_region(self):\n",
    "    source_Coords = SkyCoord(ra=self.RA,dec=self.DEC,frame='icrs')\n",
    "    SkyRegion = EllipseSkyRegion(center=self.source_Coords,width=self.MAJ*2,height=self.MIN*2,angle=self.ANGLE)\n",
    "    source_region = SkyRegion"
   ]
  },
  {
   "cell_type": "code",
   "execution_count": null,
   "metadata": {},
   "outputs": [],
   "source": [
    "from astropy.io import fits\n",
    "from astropy import units as u\n",
    "header = fits.open(img_PATH)[0].header\n",
    "wcs = WCS(header)\n",
    "\n",
    "def calculate_source_xy(row, wcs):\n",
    "    source_coords = SkyCoord(ra=row['RA']*u.degree,dec=row['DEC']*u.degree,frame='icrs')\n",
    "    source_pix = source_coords.to_pixel(wcs)\n",
    "    x = source_pix[0] - 374\n",
    "    y = source_pix[1] - 374\n",
    "    return x,y\n",
    "\n",
    "df[['x','y']] = df.apply(lambda row: calculate_source_xy(row, wcs), axis=1, result_type='expand')"
   ]
  },
  {
   "cell_type": "code",
   "execution_count": null,
   "metadata": {},
   "outputs": [],
   "source": [
    "cat"
   ]
  },
  {
   "cell_type": "code",
   "execution_count": null,
   "metadata": {},
   "outputs": [],
   "source": [
    "plt.figure(figsize=(15,15))\n",
    "plt.imshow(img,vmax=0.00005)\n",
    "plt.scatter(df['x'],df['y'],color='black',marker='+',label='pyBDSF')\n",
    "# set any 0 to nan in cat\n",
    "#cat[cat==0] = np.nan\n",
    "label_p = False\n",
    "label = False\n",
    "for i in range(0,len(cat)):\n",
    "    row = cat.iloc[i]\n",
    "    bbox = row.bbox\n",
    "    if bbox != None:\n",
    "        xmin = bbox[0] \n",
    "        xmax = bbox[2] \n",
    "        ymin = bbox[1] \n",
    "        ymax = bbox[3]\n",
    "        if label == False:\n",
    "            plt.plot([ymin,ymin,ymax,ymax,ymin],[xmin,xmax,xmax,xmin,xmin],color='red',label='class 5')\n",
    "            label = True\n",
    "        plt.plot([ymin,ymin,ymax,ymax,ymin],[xmin,xmax,xmax,xmin,xmin],color='red')\n",
    "    else:\n",
    "        polygon = row.polygon\n",
    "        if label_p == False:\n",
    "            plt.plot(polygon[:,1],polygon[:,0],color='green',label='class 2')\n",
    "            label_p = True\n",
    "        else:\n",
    "            plt.plot(polygon[:,1],polygon[:,0],color='green')   \n",
    "plt.xlim(2280,3667)\n",
    "plt.ylim(3600,4600)\n",
    "# remove ticks and axis numbers\n",
    "plt.xticks([])\n",
    "plt.yticks([])\n",
    "plt.legend()\n",
    "plt.show()"
   ]
  },
  {
   "cell_type": "code",
   "execution_count": null,
   "metadata": {},
   "outputs": [],
   "source": [
    "# set Class nan to 2\n",
    "cat['Class'] = cat['Class'].fillna(2)\n",
    "cat2 = cat[cat['Class'] == 2]\n",
    "cat2"
   ]
  },
  {
   "cell_type": "code",
   "execution_count": null,
   "metadata": {},
   "outputs": [],
   "source": [
    "# create blamk df\n",
    "def func(x):\n",
    "    return x*2\n",
    "import pandas as pd\n",
    "df2 = pd.DataFrame(data={1:1,2:2,3:3},index=[0])\n",
    "df2 = df2.apply(lambda x: func(x))\n",
    "df2"
   ]
  },
  {
   "cell_type": "code",
   "execution_count": null,
   "metadata": {},
   "outputs": [],
   "source": [
    "# plot image and poylygons\n",
    "plt.figure(figsize=(15,15))\n",
    "plt.imshow(img,vmax=0.00005)\n",
    "plt.scatter(df['x'],df['y'],color='black',marker='+',label='pyBDSF')\n",
    "for i in range(0,len(cat)):\n",
    "    row = cat.iloc[i]\n",
    "    bbox = row.bbox\n",
    "    if bbox != None:\n",
    "        xmin = bbox[0] \n",
    "        xmax = bbox[2] \n",
    "        ymin = bbox[1] \n",
    "        ymax = bbox[3]\n",
    "        if i == 0:\n",
    "            plt.plot([ymin,ymin,ymax,ymax,ymin],[xmin,xmax,xmax,xmin,xmin],color='red',label='TRSF') \n",
    "        else:\n",
    "            plt.plot([ymin,ymin,ymax,ymax,ymin],[xmin,xmax,xmax,xmin,xmin],color='red')\n",
    "plt.legend()\n",
    "plt.show()"
   ]
  }
 ],
 "metadata": {
  "kernelspec": {
   "display_name": "base",
   "language": "python",
   "name": "python3"
  },
  "language_info": {
   "codemirror_mode": {
    "name": "ipython",
    "version": 3
   },
   "file_extension": ".py",
   "mimetype": "text/x-python",
   "name": "python",
   "nbconvert_exporter": "python",
   "pygments_lexer": "ipython3",
   "version": "3.9.13"
  },
  "orig_nbformat": 4
 },
 "nbformat": 4,
 "nbformat_minor": 2
}
