{
 "cells": [
  {
   "cell_type": "code",
   "execution_count": null,
   "metadata": {},
   "outputs": [],
   "source": [
    "# Comparison with Profound and pybdsf.\n",
    "\n",
    "# find a image/field with a lot of sources that has a pybdsf catalogue (e.g. COSMO & XMM-LSS Fields.)\n",
    "# If there is not one, create a ProFound catalogue for a field and compare it with pybdsf.\n",
    "# Createa a TRSF field and compare with the others.\n",
    "\n",
    "# This to compare, the number of sources, the fluxes, the positions, the sizes, etc.\n",
    "# How extended sources are treated. Test on some complex AGN sources, 3C Catalogue, both pybdsf and Profound.\n",
    "\n"
   ]
  }
 ],
 "metadata": {
  "language_info": {
   "name": "python"
  },
  "orig_nbformat": 4
 },
 "nbformat": 4,
 "nbformat_minor": 2
}
